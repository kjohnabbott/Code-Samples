{
 "cells": [
  {
   "cell_type": "code",
   "execution_count": 1,
   "id": "2ee4ba9a",
   "metadata": {},
   "outputs": [],
   "source": [
    "import numpy as np\n",
    "import matplotlib.pyplot as plt\n",
    "import pandas as pd\n",
    "import glob"
   ]
  },
  {
   "cell_type": "code",
   "execution_count": 11,
   "id": "01ae743c",
   "metadata": {},
   "outputs": [
    {
     "name": "stdout",
     "output_type": "stream",
     "text": [
      "1250\n"
     ]
    },
    {
     "data": {
      "image/png": "[encoded data removed]",
      "text/plain": [
       "<Figure size 432x288 with 1 Axes>"
      ]
     },
     "metadata": {
      "needs_background": "light"
     },
     "output_type": "display_data"
    }
   ],
   "source": [
    "path = '/mnt/c/Users/User/Desktop/mulens_no_noise_data_current2/'\n",
    "\n",
    "mins = []\n",
    "total = 0\n",
    "for filepath in glob.glob(path + '*.csv'):\n",
    "    df = pd.read_csv(filepath)\n",
    "    mins.append(np.max(df['mag'].values))\n",
    "    total += 1\n",
    "    \n",
    "bins_list = [14, 15, 16, 17, 18, 19, 20, 21, 22, 23, 24]\n",
    "plt.hist(mins, bins = bins_list)\n",
    "plt.xticks(bins_list)\n",
    "plt.xlim((17,25))\n",
    "plt.ylim(0, 300)\n",
    "plt.grid()\n",
    "plt.xlabel('Peak Magnitude')\n",
    "plt.ylabel('Number')\n",
    "plt.title('Histogram of Magnitudes')\n",
    "#plt.show()\n",
    "plt.savefig(fname='/mnt/c/users/user/Desktop/ThesisFigures/mag_hist.png', bbox_inches='tight')\n",
    "print(total)"
   ]
  },
  {
   "cell_type": "code",
   "execution_count": 23,
   "id": "0e105431",
   "metadata": {},
   "outputs": [],
   "source": [
    "total = 29000\n",
    "def mag_dist(m):\n",
    "    '''\n",
    "    Returns portion of light curves set at baseline magnitude m\n",
    "    '''\n",
    "    return((1000*10**((m-18)/6))/total)"
   ]
  },
  {
   "cell_type": "code",
   "execution_count": 25,
   "id": "a94828a1",
   "metadata": {},
   "outputs": [
    {
     "name": "stdout",
     "output_type": "stream",
     "text": [
      "[0.03448276 0.05061377 0.07429085 0.10904406 0.16005479 0.2349283\n",
      " 0.34482759]\n"
     ]
    }
   ],
   "source": [
    "range_arr = np.array([18, 19, 20, 21, 22, 23, 24])\n",
    "\n",
    "portion_arr = mag_dist(range_arr)\n",
    "\n",
    "print(portion_arr)"
   ]
  },
  {
   "cell_type": "code",
   "execution_count": 26,
   "id": "9f6b0484",
   "metadata": {},
   "outputs": [
    {
     "data": {
      "text/plain": [
       "array([ 43.10344828,  63.26720981,  92.86356423, 136.30507156,\n",
       "       200.06848421, 293.66037459, 431.03448276])"
      ]
     },
     "execution_count": 26,
     "metadata": {},
     "output_type": "execute_result"
    }
   ],
   "source": [
    "number_array = portion_arr * 1250\n",
    "number_array"
   ]
  },
  {
   "cell_type": "code",
   "execution_count": 35,
   "id": "1e1751ba",
   "metadata": {},
   "outputs": [
    {
     "data": {
      "text/plain": [
       "array([ 43.,  63.,  92., 136., 200., 293., 431.])"
      ]
     },
     "execution_count": 35,
     "metadata": {},
     "output_type": "execute_result"
    }
   ],
   "source": [
    "num_arr_floor = np.floor(number_array)\n",
    "num_arr_floor"
   ]
  },
  {
   "cell_type": "code",
   "execution_count": 29,
   "id": "9a6aa277",
   "metadata": {},
   "outputs": [
    {
     "name": "stdout",
     "output_type": "stream",
     "text": [
      "1258.0\n"
     ]
    }
   ],
   "source": [
    "print(np.sum(num_arr_floor))"
   ]
  },
  {
   "cell_type": "code",
   "execution_count": 36,
   "id": "5954f385",
   "metadata": {},
   "outputs": [],
   "source": [
    "for i in range(len(num_arr_floor)):\n",
    "    if i==0:\n",
    "        num_arr_floor[i] = num_arr_floor[i]-2\n",
    "    else:\n",
    "        num_arr_floor[i] = num_arr_floor[i]-1\n",
    "\n",
    "    "
   ]
  },
  {
   "cell_type": "code",
   "execution_count": 37,
   "id": "8b87695e",
   "metadata": {},
   "outputs": [
    {
     "data": {
      "text/plain": [
       "array([ 41.,  62.,  91., 135., 199., 292., 430.])"
      ]
     },
     "execution_count": 37,
     "metadata": {},
     "output_type": "execute_result"
    }
   ],
   "source": [
    "num_arr_floor"
   ]
  },
  {
   "cell_type": "code",
   "execution_count": 38,
   "id": "8f33e382",
   "metadata": {},
   "outputs": [
    {
     "name": "stdout",
     "output_type": "stream",
     "text": [
      "1250.0\n"
     ]
    }
   ],
   "source": [
    "print(np.sum(num_arr_floor))"
   ]
  }
 ],
 "metadata": {
  "kernelspec": {
   "display_name": "Python 3",
   "language": "python",
   "name": "python3"
  },
  "language_info": {
   "codemirror_mode": {
    "name": "ipython",
    "version": 3
   },
   "file_extension": ".py",
   "mimetype": "text/x-python",
   "name": "python",
   "nbconvert_exporter": "python",
   "pygments_lexer": "ipython3",
   "version": "3.8.5"
  }
 },
 "nbformat": 4,
 "nbformat_minor": 5
}
