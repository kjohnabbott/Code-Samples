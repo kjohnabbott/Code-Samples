{
 "cells": [
  {
   "cell_type": "markdown",
   "id": "8a3dd87d",
   "metadata": {},
   "source": [
    "# Methodology provided by:\n",
    "https://www.analyticsvidhya.com/blog/2021/10/machine-learning-for-stock-market-prediction-with-step-by-step-implementation/\n",
    "\n"
   ]
  },
  {
   "cell_type": "markdown",
   "id": "68721287",
   "metadata": {},
   "source": [
    "#### Stock market predictions are difficult for multiple reasons:\n",
    "#### Market Volatility, numerous dependent and independent influences\n",
    "\n",
    "#### Machine learning is a start to advancing Stock Market predictions and data analysis"
   ]
  },
  {
   "cell_type": "markdown",
   "id": "116410ba",
   "metadata": {},
   "source": [
    "# Long Short-Term Memory (LSTM)\n",
    "\n",
    "LSTM is a form of an artificial Recurrent Neural Network (RNN) architecture. Its ability to handle single data points, such as pictures, as well as data sequences (voice and video) makes it a versatile architecture with opportunities for multiple field applications. While LSTM's and their structure are difficult to understand (beyond the scope of this class) they have main strengths that should motivate further investigation: Overcoming of exploding and vanishing gradients, can properly handle larger discreet time steps. \n",
    "\n"
   ]
  },
  {
   "cell_type": "markdown",
   "id": "8046b170",
   "metadata": {},
   "source": [
    "In this notebook, we look at an example of predicting stock market closing prices using a relatively simple outline for how\n",
    "to produce your own code! Below you'll see all imports required for this notebook to run."
   ]
  },
  {
   "cell_type": "code",
   "execution_count": 1,
   "id": "361fb9b8",
   "metadata": {},
   "outputs": [],
   "source": [
    "#Importing the Libraries\n",
    "import pandas as pd\n",
    "import numpy as np\n",
    "import matplotlib. pyplot as plt\n",
    "import matplotlib\n",
    "from sklearn.preprocessing import MinMaxScaler\n",
    "from keras.layers import LSTM, Dense, Dropout\n",
    "from sklearn.model_selection import TimeSeriesSplit\n",
    "from sklearn.metrics import mean_squared_error, r2_score\n",
    "import matplotlib.dates as mandates\n",
    "from sklearn.preprocessing import MinMaxScaler\n",
    "from sklearn import linear_model\n",
    "from keras.models import Sequential\n",
    "from keras.layers import Dense\n",
    "import keras.backend as K\n",
    "from keras.callbacks import EarlyStopping\n",
    "from tensorflow.keras.optimizers import Adam\n",
    "from keras.models import load_model\n",
    "from keras.layers import LSTM\n",
    "from keras.utils.vis_utils import plot_model"
   ]
  },
  {
   "cell_type": "markdown",
   "id": "ce87490b",
   "metadata": {},
   "source": [
    "### CSV file obtained from:\n",
    "https://finance.yahoo.com/quote/MSFT/history/?guccounter=1&guce_referrer=aHR0cHM6Ly93d3cuZ29vZ2xlLmNvbS8&guce_referrer_sig=AQAAAKl4kTVoEauTlpQdZPgvlNDjvHBgrFgr-1w_Ws8DOsEkMfOU5Y6eU2E9lWQwsRDojwyH_ZXBTf9QnVnWx-I18NTLD18-uDnb_IQOcOpz97Mt_4QDORCjZQpVn_oIUeBSrvXaIhFuEjN9VlAw5IGPAvVBdlOPfk2_LyLcHhY2PyVK"
   ]
  },
  {
   "cell_type": "code",
   "execution_count": 17,
   "id": "d63f431d",
   "metadata": {},
   "outputs": [],
   "source": [
    "# Dataset\n",
    "path = '/mnt/c/Users/user/Desktop/Math_Final/MSFT.csv'\n",
    "df = pd.read_csv(path, na_values=['null'], index_col='Date', parse_dates=True, infer_datetime_format=True)\n"
   ]
  },
  {
   "cell_type": "code",
   "execution_count": 18,
   "id": "9c26a180",
   "metadata": {},
   "outputs": [
    {
     "data": {
      "text/html": [
       "<div>\n",
       "<style scoped>\n",
       "    .dataframe tbody tr th:only-of-type {\n",
       "        vertical-align: middle;\n",
       "    }\n",
       "\n",
       "    .dataframe tbody tr th {\n",
       "        vertical-align: top;\n",
       "    }\n",
       "\n",
       "    .dataframe thead th {\n",
       "        text-align: right;\n",
       "    }\n",
       "</style>\n",
       "<table border=\"1\" class=\"dataframe\">\n",
       "  <thead>\n",
       "    <tr style=\"text-align: right;\">\n",
       "      <th></th>\n",
       "      <th>Open</th>\n",
       "      <th>High</th>\n",
       "      <th>Low</th>\n",
       "      <th>Close</th>\n",
       "      <th>Adj Close</th>\n",
       "      <th>Volume</th>\n",
       "    </tr>\n",
       "    <tr>\n",
       "      <th>Date</th>\n",
       "      <th></th>\n",
       "      <th></th>\n",
       "      <th></th>\n",
       "      <th></th>\n",
       "      <th></th>\n",
       "      <th></th>\n",
       "    </tr>\n",
       "  </thead>\n",
       "  <tbody>\n",
       "    <tr>\n",
       "      <th>1986-03-13</th>\n",
       "      <td>0.088542</td>\n",
       "      <td>0.101563</td>\n",
       "      <td>0.088542</td>\n",
       "      <td>0.097222</td>\n",
       "      <td>0.061378</td>\n",
       "      <td>1031788800</td>\n",
       "    </tr>\n",
       "    <tr>\n",
       "      <th>1986-03-14</th>\n",
       "      <td>0.097222</td>\n",
       "      <td>0.102431</td>\n",
       "      <td>0.097222</td>\n",
       "      <td>0.100694</td>\n",
       "      <td>0.063570</td>\n",
       "      <td>308160000</td>\n",
       "    </tr>\n",
       "    <tr>\n",
       "      <th>1986-03-17</th>\n",
       "      <td>0.100694</td>\n",
       "      <td>0.103299</td>\n",
       "      <td>0.100694</td>\n",
       "      <td>0.102431</td>\n",
       "      <td>0.064667</td>\n",
       "      <td>133171200</td>\n",
       "    </tr>\n",
       "    <tr>\n",
       "      <th>1986-03-18</th>\n",
       "      <td>0.102431</td>\n",
       "      <td>0.103299</td>\n",
       "      <td>0.098958</td>\n",
       "      <td>0.099826</td>\n",
       "      <td>0.063022</td>\n",
       "      <td>67766400</td>\n",
       "    </tr>\n",
       "    <tr>\n",
       "      <th>1986-03-19</th>\n",
       "      <td>0.099826</td>\n",
       "      <td>0.100694</td>\n",
       "      <td>0.097222</td>\n",
       "      <td>0.098090</td>\n",
       "      <td>0.061926</td>\n",
       "      <td>47894400</td>\n",
       "    </tr>\n",
       "  </tbody>\n",
       "</table>\n",
       "</div>"
      ],
      "text/plain": [
       "                Open      High       Low     Close  Adj Close      Volume\n",
       "Date                                                                     \n",
       "1986-03-13  0.088542  0.101563  0.088542  0.097222   0.061378  1031788800\n",
       "1986-03-14  0.097222  0.102431  0.097222  0.100694   0.063570   308160000\n",
       "1986-03-17  0.100694  0.103299  0.100694  0.102431   0.064667   133171200\n",
       "1986-03-18  0.102431  0.103299  0.098958  0.099826   0.063022    67766400\n",
       "1986-03-19  0.099826  0.100694  0.097222  0.098090   0.061926    47894400"
      ]
     },
     "execution_count": 18,
     "metadata": {},
     "output_type": "execute_result"
    }
   ],
   "source": [
    "df.head()"
   ]
  },
  {
   "cell_type": "markdown",
   "id": "c14e7238",
   "metadata": {},
   "source": [
    "# Check shape and presence of null values within dataframe"
   ]
  },
  {
   "cell_type": "code",
   "execution_count": 3,
   "id": "f4fe5040",
   "metadata": {},
   "outputs": [
    {
     "name": "stdout",
     "output_type": "stream",
     "text": [
      "Datafram shape:  (9007, 6)\n",
      "Null Value Present:  False\n"
     ]
    }
   ],
   "source": [
    "# Print the shape of Dataframe and Check for Null Values\n",
    "print(\"Datafram shape: \", df.shape)\n",
    "print(\"Null Value Present: \", df.isnull().values.any())"
   ]
  },
  {
   "cell_type": "code",
   "execution_count": 4,
   "id": "0ffe2bb4",
   "metadata": {},
   "outputs": [
    {
     "data": {
      "text/plain": [
       "Date\n",
       "1986-03-13      0.061378\n",
       "1986-03-14      0.063570\n",
       "1986-03-17      0.064667\n",
       "1986-03-18      0.063022\n",
       "1986-03-19      0.061926\n",
       "                 ...    \n",
       "2021-11-29    336.630005\n",
       "2021-11-30    330.589996\n",
       "2021-12-01    330.079987\n",
       "2021-12-02    329.489990\n",
       "2021-12-03    323.010010\n",
       "Name: Adj Close, Length: 9007, dtype: float64"
      ]
     },
     "execution_count": 4,
     "metadata": {},
     "output_type": "execute_result"
    }
   ],
   "source": [
    "df['Adj Close']"
   ]
  },
  {
   "cell_type": "markdown",
   "id": "771ce471",
   "metadata": {},
   "source": [
    "# Visualization of Closing Cost values"
   ]
  },
  {
   "cell_type": "code",
   "execution_count": 5,
   "id": "eb120e58",
   "metadata": {},
   "outputs": [
    {
     "data": {
      "text/plain": [
       "<AxesSubplot:xlabel='Date', ylabel='Adjust Closing Price (USD)'>"
      ]
     },
     "execution_count": 5,
     "metadata": {},
     "output_type": "execute_result"
    },
    {
     "data": {
      "image/png": "[encoded data removed]",
      "text/plain": [
       "<Figure size 432x288 with 1 Axes>"
      ]
     },
     "metadata": {
      "needs_background": "light"
     },
     "output_type": "display_data"
    }
   ],
   "source": [
    "# Plot the Close Value\n",
    "\n",
    "df['Adj Close'].plot(ylabel='Adjust Closing Price (USD)')"
   ]
  },
  {
   "cell_type": "markdown",
   "id": "e2ce66f5",
   "metadata": {},
   "source": [
    "# Variable Setting\n",
    "\n",
    "Now, we want to establish our two main variables: the independent and the dependent. Since the objective of our program is to predict the closing price for the particular company, the dependent variable is \"Adjusted Closing Cost\" or 'Adj Close' in this dataframe. We have 4 independent variables that we are assuming exclusively affect our dependent: 'Open', 'High', 'Low', and 'Volume'."
   ]
  },
  {
   "cell_type": "code",
   "execution_count": 6,
   "id": "dfa25871",
   "metadata": {},
   "outputs": [],
   "source": [
    "# Set Target Variable\n",
    "output_var = pd.DataFrame(df['Adj Close'])\n",
    "# Selecting the Features\n",
    "features = ['Open', 'High', 'Low', 'Volume']"
   ]
  },
  {
   "cell_type": "markdown",
   "id": "45c4998f",
   "metadata": {},
   "source": [
    "# Scaling\n",
    "Here, we are normalizing (or 'scaling') our data to [0,1], significantly reducing computation cost and improving performance. the `MinMaxScalar()` function from SciKitLearn is being used."
   ]
  },
  {
   "cell_type": "code",
   "execution_count": 7,
   "id": "b3a7dbba",
   "metadata": {},
   "outputs": [
    {
     "data": {
      "text/html": [
       "<div>\n",
       "<style scoped>\n",
       "    .dataframe tbody tr th:only-of-type {\n",
       "        vertical-align: middle;\n",
       "    }\n",
       "\n",
       "    .dataframe tbody tr th {\n",
       "        vertical-align: top;\n",
       "    }\n",
       "\n",
       "    .dataframe thead th {\n",
       "        text-align: right;\n",
       "    }\n",
       "</style>\n",
       "<table border=\"1\" class=\"dataframe\">\n",
       "  <thead>\n",
       "    <tr style=\"text-align: right;\">\n",
       "      <th></th>\n",
       "      <th>Open</th>\n",
       "      <th>High</th>\n",
       "      <th>Low</th>\n",
       "      <th>Volume</th>\n",
       "    </tr>\n",
       "    <tr>\n",
       "      <th>Date</th>\n",
       "      <th></th>\n",
       "      <th></th>\n",
       "      <th></th>\n",
       "      <th></th>\n",
       "    </tr>\n",
       "  </thead>\n",
       "  <tbody>\n",
       "    <tr>\n",
       "      <th>1986-03-13</th>\n",
       "      <td>0.000000</td>\n",
       "      <td>0.000027</td>\n",
       "      <td>0.000000</td>\n",
       "      <td>1.000000</td>\n",
       "    </tr>\n",
       "    <tr>\n",
       "      <th>1986-03-14</th>\n",
       "      <td>0.000025</td>\n",
       "      <td>0.000030</td>\n",
       "      <td>0.000025</td>\n",
       "      <td>0.297096</td>\n",
       "    </tr>\n",
       "    <tr>\n",
       "      <th>1986-03-17</th>\n",
       "      <td>0.000035</td>\n",
       "      <td>0.000032</td>\n",
       "      <td>0.000036</td>\n",
       "      <td>0.127119</td>\n",
       "    </tr>\n",
       "    <tr>\n",
       "      <th>1986-03-18</th>\n",
       "      <td>0.000040</td>\n",
       "      <td>0.000032</td>\n",
       "      <td>0.000030</td>\n",
       "      <td>0.063588</td>\n",
       "    </tr>\n",
       "    <tr>\n",
       "      <th>1986-03-19</th>\n",
       "      <td>0.000033</td>\n",
       "      <td>0.000025</td>\n",
       "      <td>0.000025</td>\n",
       "      <td>0.044285</td>\n",
       "    </tr>\n",
       "  </tbody>\n",
       "</table>\n",
       "</div>"
      ],
      "text/plain": [
       "                Open      High       Low    Volume\n",
       "Date                                              \n",
       "1986-03-13  0.000000  0.000027  0.000000  1.000000\n",
       "1986-03-14  0.000025  0.000030  0.000025  0.297096\n",
       "1986-03-17  0.000035  0.000032  0.000036  0.127119\n",
       "1986-03-18  0.000040  0.000032  0.000030  0.063588\n",
       "1986-03-19  0.000033  0.000025  0.000025  0.044285"
      ]
     },
     "execution_count": 7,
     "metadata": {},
     "output_type": "execute_result"
    }
   ],
   "source": [
    "# Scaling\n",
    "scaler = MinMaxScaler()\n",
    "feature_transform = scaler.fit_transform(df[features])\n",
    "feature_transform = pd.DataFrame(columns=features, data=feature_transform, index=df.index)\n",
    "feature_transform.head()"
   ]
  },
  {
   "cell_type": "markdown",
   "id": "35fa3141",
   "metadata": {},
   "source": [
    "# Training and Testing Sets\n",
    "\n",
    "We want to split our dataset into training and testing sets. `TimeSeriesSplit()` from SKLearn is being used to create our split of 10% testing, 90% training. "
   ]
  },
  {
   "cell_type": "code",
   "execution_count": 8,
   "id": "416dbf15",
   "metadata": {},
   "outputs": [],
   "source": [
    "# Splitting to Training and Test sets\n",
    "timesplit = TimeSeriesSplit(n_splits=10)\n",
    "for train_index, test_index in timesplit.split(feature_transform):\n",
    "    X_train, X_test = feature_transform[:len(train_index)], feature_transform[len(train_index): (len(train_index)+len(test_index))]\n",
    "    y_train, y_test = output_var[:len(train_index)].values.ravel(), output_var[len(train_index):(len(train_index)+len(train_index))].values.ravel()\n",
    "    \n",
    "    "
   ]
  },
  {
   "cell_type": "markdown",
   "id": "60f8c48a",
   "metadata": {},
   "source": [
    "# Data Processing\n",
    "\n",
    "LSTM requires our data to be re-formatted into the following form: (# of Samples, 1, # of features)"
   ]
  },
  {
   "cell_type": "code",
   "execution_count": 9,
   "id": "d113d089",
   "metadata": {},
   "outputs": [],
   "source": [
    "# Process data for LSTM\n",
    "trainX = np.array(X_train)\n",
    "testX = np.array(X_test)\n",
    "X_train = trainX.reshape(X_train.shape[0], 1, X_train.shape[1])\n",
    "X_test = testX.reshape(X_test.shape[0], 1, X_test.shape[1])"
   ]
  },
  {
   "cell_type": "markdown",
   "id": "459c91dc",
   "metadata": {},
   "source": [
    "# Model Building\n",
    "\n",
    "We are building a Sequential Keras model with 3 layers: Input Layer, LSTM Layer, and a Dense Layer. Our model is optimized using Adam and the loss function is computed via Mean Squared Error. "
   ]
  },
  {
   "cell_type": "code",
   "execution_count": 19,
   "id": "f0028f29",
   "metadata": {},
   "outputs": [],
   "source": [
    "# Building LSTM Model\n",
    "lstm = Sequential()\n",
    "lstm.add(LSTM(32, input_shape=(1, trainX.shape[1]), activation='relu', return_sequences=False))\n",
    "lstm.add(Dense(1))\n",
    "lstm.compile(loss='mean_squared_error', optimizer='adam')\n",
    "#plot_model(lstm, show_shapes=True, show_layer_names=True)"
   ]
  },
  {
   "cell_type": "code",
   "execution_count": 11,
   "id": "53a4c91b",
   "metadata": {},
   "outputs": [
    {
     "name": "stdout",
     "output_type": "stream",
     "text": [
      "Epoch 1/100\n",
      "1024/1024 [==============================] - 1s 666us/step - loss: 80.4054\n",
      "Epoch 2/100\n",
      "1024/1024 [==============================] - 1s 650us/step - loss: 196.0678\n",
      "Epoch 3/100\n",
      "1024/1024 [==============================] - 1s 644us/step - loss: 138.1342\n",
      "Epoch 4/100\n",
      "1024/1024 [==============================] - 1s 646us/step - loss: 82.3584\n",
      "Epoch 5/100\n",
      "1024/1024 [==============================] - 1s 644us/step - loss: 43.9612\n",
      "Epoch 6/100\n",
      "1024/1024 [==============================] - 1s 639us/step - loss: 19.3877\n",
      "Epoch 7/100\n",
      "1024/1024 [==============================] - 1s 645us/step - loss: 7.5580\n",
      "Epoch 8/100\n",
      "1024/1024 [==============================] - 1s 636us/step - loss: 3.5890\n",
      "Epoch 9/100\n",
      "1024/1024 [==============================] - 1s 646us/step - loss: 2.3581\n",
      "Epoch 10/100\n",
      "1024/1024 [==============================] - 1s 645us/step - loss: 1.8006\n",
      "Epoch 11/100\n",
      "1024/1024 [==============================] - 1s 648us/step - loss: 1.4778\n",
      "Epoch 12/100\n",
      "1024/1024 [==============================] - 1s 650us/step - loss: 1.2898\n",
      "Epoch 13/100\n",
      "1024/1024 [==============================] - 1s 643us/step - loss: 1.1879\n",
      "Epoch 14/100\n",
      "1024/1024 [==============================] - 1s 645us/step - loss: 1.1360\n",
      "Epoch 15/100\n",
      "1024/1024 [==============================] - 1s 652us/step - loss: 1.1100\n",
      "Epoch 16/100\n",
      "1024/1024 [==============================] - 1s 644us/step - loss: 1.0962\n",
      "Epoch 17/100\n",
      "1024/1024 [==============================] - 1s 650us/step - loss: 1.0878\n",
      "Epoch 18/100\n",
      "1024/1024 [==============================] - 1s 648us/step - loss: 1.0817\n",
      "Epoch 19/100\n",
      "1024/1024 [==============================] - 1s 646us/step - loss: 1.0766\n",
      "Epoch 20/100\n",
      "1024/1024 [==============================] - 1s 645us/step - loss: 1.0719\n",
      "Epoch 21/100\n",
      "1024/1024 [==============================] - 1s 649us/step - loss: 1.0674\n",
      "Epoch 22/100\n",
      "1024/1024 [==============================] - 1s 657us/step - loss: 1.0629\n",
      "Epoch 23/100\n",
      "1024/1024 [==============================] - 1s 658us/step - loss: 1.0586\n",
      "Epoch 24/100\n",
      "1024/1024 [==============================] - 1s 648us/step - loss: 1.0544\n",
      "Epoch 25/100\n",
      "1024/1024 [==============================] - 1s 648us/step - loss: 1.0503\n",
      "Epoch 26/100\n",
      "1024/1024 [==============================] - 1s 646us/step - loss: 1.0464\n",
      "Epoch 27/100\n",
      "1024/1024 [==============================] - 1s 651us/step - loss: 1.0426\n",
      "Epoch 28/100\n",
      "1024/1024 [==============================] - 1s 657us/step - loss: 1.0389\n",
      "Epoch 29/100\n",
      "1024/1024 [==============================] - 1s 659us/step - loss: 1.0354\n",
      "Epoch 30/100\n",
      "1024/1024 [==============================] - 1s 658us/step - loss: 1.0320\n",
      "Epoch 31/100\n",
      "1024/1024 [==============================] - 1s 656us/step - loss: 1.0288\n",
      "Epoch 32/100\n",
      "1024/1024 [==============================] - 1s 657us/step - loss: 1.0257\n",
      "Epoch 33/100\n",
      "1024/1024 [==============================] - 1s 657us/step - loss: 1.0227\n",
      "Epoch 34/100\n",
      "1024/1024 [==============================] - 1s 656us/step - loss: 1.0198\n",
      "Epoch 35/100\n",
      "1024/1024 [==============================] - 1s 654us/step - loss: 1.0171\n",
      "Epoch 36/100\n",
      "1024/1024 [==============================] - 1s 653us/step - loss: 1.0144\n",
      "Epoch 37/100\n",
      "1024/1024 [==============================] - 1s 664us/step - loss: 1.0118\n",
      "Epoch 38/100\n",
      "1024/1024 [==============================] - 1s 640us/step - loss: 1.0094\n",
      "Epoch 39/100\n",
      "1024/1024 [==============================] - 1s 621us/step - loss: 1.0070\n",
      "Epoch 40/100\n",
      "1024/1024 [==============================] - 1s 615us/step - loss: 1.0048\n",
      "Epoch 41/100\n",
      "1024/1024 [==============================] - 1s 614us/step - loss: 1.0026\n",
      "Epoch 42/100\n",
      "1024/1024 [==============================] - 1s 614us/step - loss: 1.0005\n",
      "Epoch 43/100\n",
      "1024/1024 [==============================] - 1s 613us/step - loss: 0.9984\n",
      "Epoch 44/100\n",
      "1024/1024 [==============================] - 1s 623us/step - loss: 0.9965\n",
      "Epoch 45/100\n",
      "1024/1024 [==============================] - 1s 618us/step - loss: 0.9946\n",
      "Epoch 46/100\n",
      "1024/1024 [==============================] - 1s 618us/step - loss: 0.9928\n",
      "Epoch 47/100\n",
      "1024/1024 [==============================] - 1s 615us/step - loss: 0.9910\n",
      "Epoch 48/100\n",
      "1024/1024 [==============================] - 1s 614us/step - loss: 0.9893\n",
      "Epoch 49/100\n",
      "1024/1024 [==============================] - 1s 616us/step - loss: 0.9877\n",
      "Epoch 50/100\n",
      "1024/1024 [==============================] - 1s 617us/step - loss: 0.9861\n",
      "Epoch 51/100\n",
      "1024/1024 [==============================] - 1s 616us/step - loss: 0.9846\n",
      "Epoch 52/100\n",
      "1024/1024 [==============================] - 1s 618us/step - loss: 0.9831\n",
      "Epoch 53/100\n",
      "1024/1024 [==============================] - 1s 620us/step - loss: 0.9817\n",
      "Epoch 54/100\n",
      "1024/1024 [==============================] - 1s 620us/step - loss: 0.9803\n",
      "Epoch 55/100\n",
      "1024/1024 [==============================] - 1s 613us/step - loss: 0.9790\n",
      "Epoch 56/100\n",
      "1024/1024 [==============================] - 1s 615us/step - loss: 0.9777\n",
      "Epoch 57/100\n",
      "1024/1024 [==============================] - 1s 614us/step - loss: 0.9765\n",
      "Epoch 58/100\n",
      "1024/1024 [==============================] - 1s 614us/step - loss: 0.9753\n",
      "Epoch 59/100\n",
      "1024/1024 [==============================] - 1s 616us/step - loss: 0.9741\n",
      "Epoch 60/100\n",
      "1024/1024 [==============================] - 1s 616us/step - loss: 0.9730\n",
      "Epoch 61/100\n",
      "1024/1024 [==============================] - 1s 615us/step - loss: 0.9719\n",
      "Epoch 62/100\n",
      "1024/1024 [==============================] - 1s 614us/step - loss: 0.9708\n",
      "Epoch 63/100\n",
      "1024/1024 [==============================] - 1s 612us/step - loss: 0.9698\n",
      "Epoch 64/100\n",
      "1024/1024 [==============================] - 1s 613us/step - loss: 0.9688\n",
      "Epoch 65/100\n",
      "1024/1024 [==============================] - 1s 613us/step - loss: 0.9678\n",
      "Epoch 66/100\n",
      "1024/1024 [==============================] - 1s 614us/step - loss: 0.9669\n",
      "Epoch 67/100\n",
      "1024/1024 [==============================] - 1s 616us/step - loss: 0.9660\n",
      "Epoch 68/100\n",
      "1024/1024 [==============================] - 1s 612us/step - loss: 0.9651\n",
      "Epoch 69/100\n",
      "1024/1024 [==============================] - 1s 616us/step - loss: 0.9643\n",
      "Epoch 70/100\n",
      "1024/1024 [==============================] - 1s 612us/step - loss: 0.9635\n",
      "Epoch 71/100\n",
      "1024/1024 [==============================] - 1s 612us/step - loss: 0.9627\n",
      "Epoch 72/100\n",
      "1024/1024 [==============================] - 1s 614us/step - loss: 0.9619\n",
      "Epoch 73/100\n",
      "1024/1024 [==============================] - 1s 620us/step - loss: 0.9612\n",
      "Epoch 74/100\n",
      "1024/1024 [==============================] - 1s 623us/step - loss: 0.9604\n",
      "Epoch 75/100\n",
      "1024/1024 [==============================] - 1s 615us/step - loss: 0.9597\n",
      "Epoch 76/100\n",
      "1024/1024 [==============================] - 1s 614us/step - loss: 0.9590\n",
      "Epoch 77/100\n",
      "1024/1024 [==============================] - 1s 614us/step - loss: 0.9584\n",
      "Epoch 78/100\n",
      "1024/1024 [==============================] - 1s 612us/step - loss: 0.9577\n",
      "Epoch 79/100\n",
      "1024/1024 [==============================] - 1s 612us/step - loss: 0.9571\n",
      "Epoch 80/100\n",
      "1024/1024 [==============================] - 1s 613us/step - loss: 0.9565\n",
      "Epoch 81/100\n",
      "1024/1024 [==============================] - 1s 615us/step - loss: 0.9559\n",
      "Epoch 82/100\n",
      "1024/1024 [==============================] - 1s 616us/step - loss: 0.9553\n",
      "Epoch 83/100\n",
      "1024/1024 [==============================] - 1s 615us/step - loss: 0.9548\n",
      "Epoch 84/100\n",
      "1024/1024 [==============================] - 1s 615us/step - loss: 0.9542\n",
      "Epoch 85/100\n",
      "1024/1024 [==============================] - 1s 617us/step - loss: 0.9537\n",
      "Epoch 86/100\n",
      "1024/1024 [==============================] - 1s 615us/step - loss: 0.9532\n",
      "Epoch 87/100\n",
      "1024/1024 [==============================] - 1s 617us/step - loss: 0.9527\n",
      "Epoch 88/100\n",
      "1024/1024 [==============================] - 1s 610us/step - loss: 0.9523\n",
      "Epoch 89/100\n",
      "1024/1024 [==============================] - 1s 610us/step - loss: 0.9518\n",
      "Epoch 90/100\n",
      "1024/1024 [==============================] - 1s 613us/step - loss: 0.9513\n",
      "Epoch 91/100\n",
      "1024/1024 [==============================] - 1s 611us/step - loss: 0.9509\n",
      "Epoch 92/100\n",
      "1024/1024 [==============================] - 1s 611us/step - loss: 0.9505\n",
      "Epoch 93/100\n",
      "1024/1024 [==============================] - 1s 609us/step - loss: 0.9501\n",
      "Epoch 94/100\n",
      "1024/1024 [==============================] - 1s 609us/step - loss: 0.9497\n",
      "Epoch 95/100\n",
      "1024/1024 [==============================] - 1s 608us/step - loss: 0.9493\n",
      "Epoch 96/100\n",
      "1024/1024 [==============================] - 1s 610us/step - loss: 0.9489\n",
      "Epoch 97/100\n",
      "1024/1024 [==============================] - 1s 613us/step - loss: 0.9486\n",
      "Epoch 98/100\n",
      "1024/1024 [==============================] - 1s 612us/step - loss: 0.9482\n",
      "Epoch 99/100\n",
      "1024/1024 [==============================] - 1s 611us/step - loss: 0.9479\n",
      "Epoch 100/100\n",
      "1024/1024 [==============================] - 1s 609us/step - loss: 0.9475\n"
     ]
    }
   ],
   "source": [
    "# Model Training\n",
    "history = lstm.fit(X_train, y_train, epochs=100, batch_size=8, verbose=1, shuffle=False)"
   ]
  },
  {
   "cell_type": "markdown",
   "id": "3e1b4b1a",
   "metadata": {},
   "source": [
    "# Visualization of Loss Over Epochs"
   ]
  },
  {
   "cell_type": "code",
   "execution_count": 12,
   "id": "03aa80d4",
   "metadata": {},
   "outputs": [
    {
     "data": {
      "image/png": "[encoded data removed]",
      "text/plain": [
       "<Figure size 432x288 with 1 Axes>"
      ]
     },
     "metadata": {
      "needs_background": "light"
     },
     "output_type": "display_data"
    }
   ],
   "source": [
    "plt.plot(history.history['loss'])\n",
    "plt.ylabel('Loss')\n",
    "plt.xlabel('Epoch')\n",
    "plt.show()"
   ]
  },
  {
   "cell_type": "markdown",
   "id": "deb71400",
   "metadata": {},
   "source": [
    "# Create Predictions Using LSTM"
   ]
  },
  {
   "cell_type": "code",
   "execution_count": 13,
   "id": "a4658eab",
   "metadata": {},
   "outputs": [],
   "source": [
    "# LSTM Prediction\n",
    "y_pred = lstm.predict(X_test)"
   ]
  },
  {
   "cell_type": "markdown",
   "id": "16182643",
   "metadata": {},
   "source": [
    "# Visualization of Predictions vs. True Values\n",
    "\n",
    "Let us see how our LSTM model performs relative to the true values of Closing Costs. "
   ]
  },
  {
   "cell_type": "code",
   "execution_count": 14,
   "id": "e05814d7",
   "metadata": {},
   "outputs": [
    {
     "data": {
      "image/png": "[encoded data removed]",
      "text/plain": [
       "<Figure size 432x288 with 1 Axes>"
      ]
     },
     "metadata": {
      "needs_background": "light"
     },
     "output_type": "display_data"
    }
   ],
   "source": [
    "# Predicted vs True Adj Close Value using LSTM\n",
    "plt.plot(y_test, label='True Value')\n",
    "plt.plot(y_pred, label='LSTM Value')\n",
    "plt.title('Prediction by LSTM')\n",
    "plt.xlabel('Time Scale')\n",
    "plt.ylabel('Scaled USD')\n",
    "plt.legend()\n",
    "plt.show()"
   ]
  },
  {
   "cell_type": "markdown",
   "id": "0a4ea227",
   "metadata": {},
   "source": [
    "# Analysis\n",
    "\n",
    "Notice that the LSTM model has prediction some temporal phenomenology, but underestimates our closing costs. With hyperparameter tuning and the addition of more LSTM layers to our model, the predictions can become more accurate. "
   ]
  },
  {
   "cell_type": "markdown",
   "id": "56e3b4bd",
   "metadata": {},
   "source": [
    "# Error within Predictions\n",
    "\n",
    "Here, we are visualizing the error between our predicted and true values. The error is computed by:\n",
    "\n",
    "## $\\frac{|TrueValue - PredictedValue|}{True Value} \\times 100$"
   ]
  },
  {
   "cell_type": "code",
   "execution_count": 15,
   "id": "374a5fed",
   "metadata": {},
   "outputs": [],
   "source": [
    "def error(set1, set2):\n",
    "    \n",
    "    y = set1\n",
    "    y_hat = set2\n",
    "    error = np.zeros(len(y))\n",
    "    for i in range(len(y)):\n",
    "        error[i] = (np.abs(y[i]-y_hat[i])/y[i])*100\n",
    "    return (error)"
   ]
  },
  {
   "cell_type": "code",
   "execution_count": 22,
   "id": "17f407db",
   "metadata": {},
   "outputs": [
    {
     "data": {
      "image/png": "[encoded data removed]",
      "text/plain": [
       "<Figure size 432x288 with 1 Axes>"
      ]
     },
     "metadata": {
      "needs_background": "light"
     },
     "output_type": "display_data"
    }
   ],
   "source": [
    "plt.plot(error(y_test, y_pred))\n",
    "plt.plot([0,820], [np.max(error(y_test, y_pred)),np.max(error(y_test, y_pred))], '--', color='red')\n",
    "plt.xlabel('Time Scale')\n",
    "plt.ylabel('% Error')\n",
    "plt.title('Error')\n",
    "plt.show()"
   ]
  },
  {
   "cell_type": "code",
   "execution_count": null,
   "id": "37734047",
   "metadata": {},
   "outputs": [],
   "source": []
  }
 ],
 "metadata": {
  "kernelspec": {
   "display_name": "Python 3",
   "language": "python",
   "name": "python3"
  },
  "language_info": {
   "codemirror_mode": {
    "name": "ipython",
    "version": 3
   },
   "file_extension": ".py",
   "mimetype": "text/x-python",
   "name": "python",
   "nbconvert_exporter": "python",
   "pygments_lexer": "ipython3",
   "version": "3.8.5"
  }
 },
 "nbformat": 4,
 "nbformat_minor": 5
}
